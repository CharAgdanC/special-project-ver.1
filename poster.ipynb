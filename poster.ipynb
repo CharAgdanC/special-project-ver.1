{
 "cells": [
  {
   "cell_type": "code",
   "execution_count": null,
   "id": "ee663ffb",
   "metadata": {},
   "outputs": [],
   "source": [
    "import os, glob, json, math\n",
    "from datetime import datetime\n",
    "\n",
    "import numpy as np\n",
    "import pandas as pd\n",
    "import matplotlib.pyplot as plt\n",
    "import shap\n",
    "\n",
    "from sklearn.metrics import (\n",
    "    mean_squared_error, \n",
    "    mean_absolute_error, \n",
    "    r2_score,\n",
    "    mean_absolute_percentage_error, \n",
    "    median_absolute_error,\n",
    "    explained_variance_score\n",
    ")\n",
    "from sklearn.preprocessing import MinMaxScaler\n",
    "from tensorflow.keras.models import Sequential,Model\n",
    "from tensorflow.keras.layers import (\n",
    "    LSTM, \n",
    "    Dense, \n",
    "    Dropout,\n",
    "    Input, \n",
    "    LayerNormalization, \n",
    "    MultiHeadAttention, \n",
    "    GlobalAveragePooling1D\n",
    ")\n",
    "from xgboost import XGBRegressor\n",
    "from catboost import CatBoostRegressor\n",
    "from sklearn.linear_model import LinearRegression\n",
    "import matplotlib.pyplot as plt\n",
    "import matplotlib.ticker as mtick\n",
    "from tensorflow.keras.callbacks import EarlyStopping\n",
    "from tensorflow.keras.optimizers import Adam"
   ]
  },
  {
   "cell_type": "code",
   "execution_count": null,
   "id": "c82f43f3",
   "metadata": {},
   "outputs": [],
   "source": [
    "def mase(y_true, y_pred, m=1):\n",
    "    y_true, y_pred = np.asarray(y_true).flatten(), np.asarray(y_pred).flatten()\n",
    "    n = y_true.size\n",
    "    d = np.abs(np.diff(y_true, n=m)).sum() / (n - m + 1e-9)\n",
    "    return np.abs(y_true - y_pred).mean() / (d + 1e-9)\n",
    "def rmsle_safe(y_true, y_pred):\n",
    "    y_true, y_pred = np.asarray(y_true).flatten(), np.asarray(y_pred).flatten()\n",
    "    mask = np.isfinite(y_true) & np.isfinite(y_pred)\n",
    "    y_true, y_pred = y_true[mask], y_pred[mask]\n",
    "    y_true_clip = np.clip(y_true, 0, None)\n",
    "    y_pred_clip = np.clip(y_pred, 0, None)\n",
    "    return np.sqrt(mean_squared_error(np.log1p(y_true_clip), np.log1p(y_pred_clip)))"
   ]
  },
  {
   "cell_type": "code",
   "execution_count": null,
   "id": "e371fed0",
   "metadata": {},
   "outputs": [],
   "source": [
    "def safe_mape(y_true, y_pred):\n",
    "    y_true, y_pred = np.asarray(y_true).flatten(), np.asarray(y_pred).flatten()\n",
    "    mask = y_true != 0\n",
    "    if mask.sum() == 0:\n",
    "        return np.nan\n",
    "    return np.mean(np.abs((y_true[mask] - y_pred[mask]) / y_true[mask]))\n",
    "\n",
    "def smape(y_true, y_pred):\n",
    "    y_true, y_pred = np.asarray(y_true).flatten(), np.asarray(y_pred).flatten()\n",
    "    return np.mean(2 * np.abs(y_pred - y_true) / (np.abs(y_true) + np.abs(y_pred) + 1e-9))\n"
   ]
  },
  {
   "cell_type": "code",
   "execution_count": null,
   "id": "445a0c9b",
   "metadata": {},
   "outputs": [],
   "source": [
    "def evaluate_model(name, y_true, y_pred, result_list, baseline_rmse=None):\n",
    "    y_true, y_pred = np.asarray(y_true).flatten(), np.asarray(y_pred).flatten()\n",
    "    # ---- 清理 NaN / Inf ----\n",
    "    mask = np.isfinite(y_true) & np.isfinite(y_pred)\n",
    "    if mask.sum() == 0:\n",
    "        print(f\"[WARN] {name} -> 全部資料點均無法用於計算指標！\")\n",
    "        return\n",
    "    y_true, y_pred = y_true[mask], y_pred[mask]\n",
    "\n",
    "    mae   = mean_absolute_error(y_true, y_pred)\n",
    "    rmse  = np.sqrt(mean_squared_error(y_true, y_pred))\n",
    "    mape  = safe_mape(y_true, y_pred)       \n",
    "    smape_val = smape(y_true, y_pred)      \n",
    "    r2    = r2_score(y_true, y_pred)\n",
    "    md_ae = median_absolute_error(y_true, y_pred)\n",
    "    ev    = explained_variance_score(y_true, y_pred)\n",
    "    mase_v= mase(y_true, y_pred)\n",
    "    rmsle_v = rmsle_safe(y_true, y_pred)\n",
    "\n",
    "    skill = 1 - (rmse / baseline_rmse) if baseline_rmse is not None else None\n",
    "\n",
    "    print(f\"{name} -> MAE:{mae:.4f} | RMSE:{rmse:.4f} | MAPE:{mape:.2%} | \"\n",
    "          f\"R2:{r2:.4f} | MdAE:{md_ae:.4f} | EV:{ev:.4f} | \"\n",
    "          f\"MASE:{mase_v:.4f} | RMSLE:{rmsle_v:.4f}\"\n",
    "          + (f\" | Skill:{skill:.4f}\" if skill is not None else \"\"))\n",
    "\n",
    "    result_list.append(dict(model=name, MAE=mae, RMSE=rmse, MAPE=mape,SMAPE=smape_val,\n",
    "                            MdAE=md_ae, R2=r2, EV=ev,\n",
    "                            MASE=mase_v, RMSLE=rmsle_v,\n",
    "                            SkillScore=skill))\n"
   ]
  },
  {
   "cell_type": "code",
   "execution_count": null,
   "id": "3f9c0524",
   "metadata": {},
   "outputs": [],
   "source": [
    "LookBackNum = 24\n",
    "ForecastNum = 48\n",
    "now = datetime.now().strftime(\"%Y-%m-%dT%H_%M_%SZ\")\n",
    "data_path = os.path.join(os.getcwd(), \"\")\n",
    "\n",
    "features      = ['WindSpeed(m/s)', 'Pressure(hpa)', 'Temperature(°C)', 'Humidity(%)', 'Sunlight(Lux)']\n",
    "target_power  = ['Power(mW)']"
   ]
  },
  {
   "cell_type": "code",
   "execution_count": null,
   "id": "276bd63a",
   "metadata": {},
   "outputs": [],
   "source": [
    "csv_files = glob.glob(os.path.join(data_path, \"AvgDATA_*.csv\"))\n",
    "df_list = [pd.read_csv(fp, encoding='utf-8') for fp in csv_files]\n",
    "data = pd.concat(df_list, ignore_index=True)\n",
    "\n",
    "X_weather = data[features].values\n",
    "y_power   = data[target_power].values\n",
    "\n",
    "scaler = MinMaxScaler().fit(X_weather)\n",
    "X_scaled = scaler.transform(X_weather)"
   ]
  },
  {
   "cell_type": "code",
   "execution_count": null,
   "id": "a58848b4",
   "metadata": {},
   "outputs": [],
   "source": [
    "X_p_seq, y_p_seq = [], []\n",
    "for i in range(LookBackNum, len(y_power)):\n",
    "    X_p_seq.append(y_power[i-LookBackNum:i, 0])\n",
    "    y_p_seq.append(y_power[i, 0])\n",
    "X_p_seq = np.array(X_p_seq).reshape(-1, LookBackNum, 1)\n",
    "y_p_seq = np.array(y_p_seq)\n",
    "\n",
    "# 5‒2 氣象 ➜ LSTM-2/3\n",
    "X_seq, y_seq = [], []\n",
    "for i in range(LookBackNum, len(X_scaled)):\n",
    "    X_seq.append(X_scaled[i-LookBackNum:i])\n",
    "    y_seq.append(X_scaled[i])\n",
    "X_seq = np.array(X_seq)\n",
    "y_seq = np.array(y_seq)\n",
    "\n",
    "# 5‒3 氣象多步 ➜ LSTM-4\n",
    "X_multi, y_multi = [], []\n",
    "for i in range(LookBackNum, len(X_scaled) - ForecastNum):\n",
    "    X_multi.append(X_scaled[i-LookBackNum:i])\n",
    "    y_multi.append(X_scaled[i:i+ForecastNum])\n",
    "X_multi = np.array(X_multi)\n",
    "y_multi = np.array(y_multi)"
   ]
  },
  {
   "cell_type": "code",
   "execution_count": null,
   "id": "e6b616f4",
   "metadata": {},
   "outputs": [],
   "source": [
    "def build_lstm(input_shape, out_dim):\n",
    "    model = Sequential([\n",
    "        LSTM(256, return_sequences=True, input_shape=input_shape),\n",
    "        LSTM(128),\n",
    "        Dropout(0.1),\n",
    "        Dense(out_dim)\n",
    "    ])\n",
    "    model.compile(optimizer='adam', loss='mae')\n",
    "    return model"
   ]
  },
  {
   "cell_type": "code",
   "execution_count": null,
   "id": "4811a1a1",
   "metadata": {},
   "outputs": [],
   "source": [
    "lstm1 = build_lstm((LookBackNum, 1), 1)\n",
    "lstm1.fit(X_p_seq, y_p_seq, epochs=10, batch_size=256, verbose=0)"
   ]
  },
  {
   "cell_type": "code",
   "execution_count": null,
   "id": "bf9a1935",
   "metadata": {},
   "outputs": [],
   "source": [
    "lstm2 = build_lstm((X_seq.shape[1], X_seq.shape[2]), len(features))\n",
    "lstm2.fit(X_seq, y_seq, epochs=10, batch_size=256, verbose=0)\n",
    "\n",
    "lstm_feat2 = lstm2.predict(X_seq)\n",
    "y_cut      = y_power[LookBackNum:].flatten()\n",
    "\n",
    "xgb = XGBRegressor(n_estimators=100, learning_rate=0.1, max_depth=4)\n",
    "xgb.fit(lstm_feat2, y_cut)"
   ]
  },
  {
   "cell_type": "code",
   "execution_count": null,
   "id": "cf1160e6",
   "metadata": {},
   "outputs": [],
   "source": [
    "lstm3 = build_lstm((X_seq.shape[1], X_seq.shape[2]), len(features))\n",
    "lstm3.fit(X_seq, y_seq, epochs=10, batch_size=256, verbose=0)\n",
    "\n",
    "lstm_feat3 = lstm3.predict(X_seq)\n",
    "lr = LinearRegression().fit(lstm_feat3, y_cut)"
   ]
  },
  {
   "cell_type": "code",
   "execution_count": null,
   "id": "b48b880c",
   "metadata": {},
   "outputs": [],
   "source": [
    "lstm4 = build_lstm((LookBackNum, X_scaled.shape[1]), X_scaled.shape[1] * ForecastNum)\n",
    "lstm4.fit(X_multi, y_multi.reshape(-1, X_scaled.shape[1]*ForecastNum),\n",
    "          epochs=10, batch_size=128, verbose=0)\n",
    "\n",
    "lstm_feat4 = lstm4.predict(X_multi)\\\n",
    "              .reshape(-1, ForecastNum, len(features))[:, 0, :]\n",
    "cat_y = y_power[LookBackNum+ForecastNum : LookBackNum+ForecastNum+len(lstm_feat4)].flatten()\n",
    "\n",
    "cb = CatBoostRegressor(iterations=300, depth=6, learning_rate=0.05, verbose=0)\n",
    "cb.fit(lstm_feat4, cat_y)"
   ]
  },
  {
   "cell_type": "code",
   "execution_count": null,
   "id": "2f2d83a7",
   "metadata": {},
   "outputs": [],
   "source": [
    "def build_transformer(input_shape,\n",
    "                      d_model=32,        # 嵌入維度（越小越不易過擬合）\n",
    "                      num_heads=2,       # 注意力頭數\n",
    "                      ff_dim=128,         # Feed-Forward 網路維度\n",
    "                      dropout=0.15):\n",
    "    \"\"\"\n",
    "    Minimal Transformer Encoder → GlobalAveragePooling → Dense(1) regression head.\n",
    "    只有 1 個 Encoder block，參數量約數千，適合小資料。\n",
    "    \"\"\"\n",
    "    inp = Input(shape=input_shape)                       # (time_steps, features)\n",
    "\n",
    "    # --- Encoder Block ---\n",
    "    x = LayerNormalization(epsilon=1e-6)(inp)\n",
    "    attn = MultiHeadAttention(num_heads=num_heads,\n",
    "                              key_dim=d_model,\n",
    "                              dropout=dropout)(x, x)\n",
    "    x = Add()([x, attn])                                 # Skip Conn.\n",
    "\n",
    "    x2 = LayerNormalization(epsilon=1e-6)(x)\n",
    "    ff  = Dense(ff_dim, activation=\"relu\")(x2)\n",
    "    ff  = Dense(d_model)(ff)\n",
    "    x   = Add()([x, ff])                                 # Skip Conn.\n",
    "\n",
    "    # --- Pool & Regression Head ---\n",
    "    x = GlobalAveragePooling1D()(x)\n",
    "    x = Dropout(dropout)(x)\n",
    "    out = Dense(1)(x)\n",
    "\n",
    "    model = Model(inp, out, name=\"MiniTransformer\")\n",
    "    model.compile(optimizer=\"adam\", loss=\"mae\")\n",
    "    return model\n"
   ]
  },
  {
   "cell_type": "code",
   "execution_count": null,
   "id": "17a38125",
   "metadata": {},
   "outputs": [],
   "source": [
    "from tensorflow.keras.layers import (\n",
    "    Input, Dense, Dropout, LayerNormalization,\n",
    "    MultiHeadAttention, GlobalAveragePooling1D, Add\n",
    ")\n",
    "from tensorflow.keras.models import Model"
   ]
  },
  {
   "cell_type": "code",
   "execution_count": null,
   "id": "a49d43dc",
   "metadata": {},
   "outputs": [],
   "source": [
    "# -------------------------------\n",
    "# Transformer (Power only) 模型\n",
    "# -------------------------------\n",
    "from tensorflow.keras.callbacks import EarlyStopping\n",
    "trans = build_transformer(input_shape=(LookBackNum, 1),\n",
    "                          d_model=16, num_heads=2, ff_dim=32, dropout=0.15)\n",
    "\n",
    "early_stop = EarlyStopping(monitor=\"loss\",\n",
    "                           patience=10, restore_best_weights=True)\n",
    "\n",
    "trans.fit(X_p_seq, y_p_seq,\n",
    "          epochs=50,         # 小資料 → 多跑幾輪並早停\n",
    "          batch_size=256,\n",
    "          callbacks=[early_stop],\n",
    "          verbose=0)\n",
    "y_pred_trans = trans.predict(X_p_seq).flatten()"
   ]
  },
  {
   "cell_type": "code",
   "execution_count": null,
   "id": "88e20626",
   "metadata": {},
   "outputs": [],
   "source": [
    "results = []\n",
    "evaluate_model(\"LSTM\", y_p_seq, lstm1.predict(X_p_seq), results)\n",
    "evaluate_model(\"LSTM+XGBoost\",   y_cut,   xgb.predict(lstm_feat2), results)\n",
    "evaluate_model(\"LSTM+Linear\",    y_cut,   lr.predict(lstm_feat3),  results)\n",
    "evaluate_model(\"LSTM+CatBoost\",  cat_y,   cb.predict(lstm_feat4),  results)\n",
    "evaluate_model(\"Transformer\", y_p_seq, y_pred_trans, results)"
   ]
  },
  {
   "cell_type": "code",
   "execution_count": null,
   "id": "7b933e7b",
   "metadata": {},
   "outputs": [],
   "source": [
    "df = pd.DataFrame(results).set_index(\"model\")\n",
    "\n",
    "# 8‒1 多指標長條圖\n",
    "df[[\"MAE\", \"RMSE\", \"MAPE\", \"MASE\"]].plot(kind=\"bar\", figsize=(10,6), rot=45,\n",
    "                                         title=\"Model Error Comparison\")\n",
    "plt.ylabel(\"Error\")\n",
    "plt.tight_layout()\n",
    "plt.savefig(f\"model_errors_{now}.png\")\n",
    "plt.show()"
   ]
  },
  {
   "cell_type": "code",
   "execution_count": null,
   "id": "4e385684",
   "metadata": {},
   "outputs": [],
   "source": [
    "if df[\"SkillScore\"].notna().any():\n",
    "    labels = df.index.tolist()\n",
    "    scores = df[\"SkillScore\"].fillna(0).values\n",
    "    angles = np.linspace(0, 2*math.pi, len(labels), endpoint=False)\n",
    "    scores = np.concatenate([scores, [scores[0]]])\n",
    "    angles = np.concatenate([angles, [angles[0]]])\n",
    "\n",
    "    fig = plt.figure(figsize=(5,5))\n",
    "    ax  = fig.add_subplot(111, polar=True)\n",
    "    ax.plot(angles, scores, marker='o')\n",
    "    ax.fill(angles, scores, alpha=0.25)\n",
    "    ax.set_thetagrids(angles[:-1]*180/math.pi, labels)\n",
    "    ax.set_title(\"Skill Score (higher = better)\")\n",
    "    plt.tight_layout()\n",
    "    plt.savefig(f\"skill_score_{now}.png\")\n",
    "    plt.show()"
   ]
  },
  {
   "cell_type": "code",
   "execution_count": null,
   "id": "04921f05",
   "metadata": {},
   "outputs": [],
   "source": [
    "explainer = shap.Explainer(xgb)\n",
    "shap_values = explainer(lstm_feat2[:100])\n",
    "shap.summary_plot(shap_values,\n",
    "                  features=lstm_feat2[:100],\n",
    "                  feature_names=features,\n",
    "                  show=False)\n",
    "plt.tight_layout()\n",
    "plt.savefig(f\"shap_summary_{now}.png\")\n",
    "plt.show()"
   ]
  },
  {
   "cell_type": "code",
   "execution_count": null,
   "id": "d8b738a8",
   "metadata": {},
   "outputs": [],
   "source": [
    "df = pd.DataFrame(results).set_index(\"model\").sort_index()\n",
    "plt.rc(\"mathtext\", default=\"regular\")"
   ]
  },
  {
   "cell_type": "code",
   "execution_count": null,
   "id": "c342ffb2",
   "metadata": {},
   "outputs": [],
   "source": [
    "fig, ax = plt.subplots(figsize=(8,6))\n",
    "df[[\"MAE\",\"RMSE\"]].plot(kind=\"bar\", ax=ax)\n",
    "ax.set_title(\"MAE vs RMSE\"); ax.set_xticklabels(df.index, rotation=0)\n",
    "plt.tight_layout(); plt.show()"
   ]
  },
  {
   "cell_type": "code",
   "execution_count": null,
   "id": "39986daf",
   "metadata": {},
   "outputs": [],
   "source": [
    "fig, ax = plt.subplots(figsize=(8,6))\n",
    "df[\"R2\"].plot(kind=\"bar\", ax=ax, color=\"tab:purple\")\n",
    "ax.set_title(r\"$R^2$ by Model\"); ax.set_xticklabels(df.index, rotation=0)\n",
    "plt.tight_layout(); plt.show()"
   ]
  },
  {
   "cell_type": "code",
   "execution_count": null,
   "id": "3262cb87",
   "metadata": {},
   "outputs": [],
   "source": [
    "fig, ax = plt.subplots(figsize=(8,6))\n",
    "# 如果用 safe MAPE：\n",
    "#(df[\"MAPE\"] * 100).plot(kind=\"bar\", ax=ax, color=\"tab:green\")\n",
    "# 或用 SMAPE：\n",
    "(df[\"SMAPE\"] * 100).plot(kind=\"bar\", ax=ax, color=\"tab:orange\")\n",
    "ax.set_title(\"MAPE (%)\"); ax.set_ylabel(\"Percent\"); ax.set_xticklabels(df.index, rotation=0)\n",
    "ax.yaxis.set_major_formatter(mtick.PercentFormatter())\n",
    "plt.tight_layout(); plt.show()"
   ]
  }
 ],
 "metadata": {
  "kernelspec": {
   "display_name": "project",
   "language": "python",
   "name": "python3"
  },
  "language_info": {
   "codemirror_mode": {
    "name": "ipython",
    "version": 3
   },
   "file_extension": ".py",
   "mimetype": "text/x-python",
   "name": "python",
   "nbconvert_exporter": "python",
   "pygments_lexer": "ipython3",
   "version": "3.9.21"
  }
 },
 "nbformat": 4,
 "nbformat_minor": 5
}
