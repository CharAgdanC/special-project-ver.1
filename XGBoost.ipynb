{
 "cells": [
  {
   "cell_type": "code",
   "execution_count": null,
   "id": "db9482b1",
   "metadata": {},
   "outputs": [],
   "source": [
    "import os\n",
    "import glob\n",
    "import pandas as pd\n",
    "import numpy as np\n",
    "from tensorflow.keras.models import Sequential, load_model\n",
    "from tensorflow.keras.layers import Dense, LSTM, Dropout\n",
    "from sklearn.preprocessing import MinMaxScaler\n",
    "from xgboost import XGBRegressor\n",
    "import joblib\n",
    "from datetime import datetime"
   ]
  },
  {
   "cell_type": "code",
   "execution_count": null,
   "id": "402f9d9f",
   "metadata": {},
   "outputs": [],
   "source": [
    "# 設定參數\n",
    "LookBackNum = 12  # LSTM往前看的筆數\n",
    "ForecastNum = 48  # 預測筆數"
   ]
  },
  {
   "cell_type": "code",
   "execution_count": null,
   "id": "b1bd4de5",
   "metadata": {},
   "outputs": [],
   "source": [
    "# 合併所有 17 個檔案的數據\n",
    "def load_all_data():\n",
    "    data_path = os.getcwd() + r''\n",
    "    all_files = glob.glob(data_path + r'\\AvgDATA_*.csv')\n",
    "    all_data = pd.concat([pd.read_csv(file, encoding='utf-8') for file in all_files], ignore_index=True)\n",
    "    return all_data"
   ]
  },
  {
   "cell_type": "code",
   "execution_count": null,
   "id": "24506a76",
   "metadata": {},
   "outputs": [],
   "source": [
    "# 載入數據\n",
    "all_data = load_all_data()"
   ]
  },
  {
   "cell_type": "code",
   "execution_count": null,
   "id": "752b9487",
   "metadata": {},
   "outputs": [],
   "source": [
    "# 分別準備 LSTM 和回歸模型需要的數據\n",
    "LSTM_X_data = all_data[['WindSpeed(m/s)', 'Pressure(hpa)', 'Temperature(°C)', 'Humidity(%)', 'Sunlight(Lux)']].values\n",
    "Regression_X_train = all_data[['WindSpeed(m/s)', 'Pressure(hpa)', 'Temperature(°C)', 'Humidity(%)', 'Sunlight(Lux)']].values\n",
    "Regression_y_train = all_data[['Power(mW)']].values\n"
   ]
  },
  {
   "cell_type": "code",
   "execution_count": null,
   "id": "61682b9f",
   "metadata": {},
   "outputs": [],
   "source": [
    "# 正規化數據\n",
    "LSTM_MinMaxModel = MinMaxScaler().fit(LSTM_X_data)\n",
    "LSTM_X_data_scaled = LSTM_MinMaxModel.transform(LSTM_X_data)\n",
    "\n",
    "# 準備 LSTM 的訓練數據\n",
    "X_train, y_train = [], []"
   ]
  },
  {
   "cell_type": "code",
   "execution_count": null,
   "id": "17a5fb17",
   "metadata": {},
   "outputs": [],
   "source": [
    "for i in range(LookBackNum, len(LSTM_X_data_scaled)):\n",
    "    X_train.append(LSTM_X_data_scaled[i - LookBackNum:i, :])\n",
    "    y_train.append(LSTM_X_data_scaled[i, :])\n",
    "\n",
    "X_train = np.array(X_train)\n",
    "y_train = np.array(y_train)\n",
    "\n",
    "# 重新設定形狀\n",
    "X_train = np.reshape(X_train, (X_train.shape[0], X_train.shape[1], 5))"
   ]
  },
  {
   "cell_type": "code",
   "execution_count": null,
   "id": "1af91391",
   "metadata": {},
   "outputs": [],
   "source": [
    "# 建置 LSTM 模型\n",
    "def build_lstm_model():\n",
    "    model = Sequential()\n",
    "    model.add(LSTM(units=256, return_sequences=True, input_shape=(X_train.shape[1], X_train.shape[2])))\n",
    "    model.add(Dropout(0.3))\n",
    "    model.add(LSTM(units=128, return_sequences=True))\n",
    "    model.add(Dropout(0.3))\n",
    "    model.add(LSTM(units=64))\n",
    "    model.add(Dense(units=5))\n",
    "    model.compile(optimizer='adam', loss='mean_absolute_error')  # 改用 MAE\n",
    "    return model"
   ]
  },
  {
   "cell_type": "code",
   "execution_count": null,
   "id": "33c8d710",
   "metadata": {},
   "outputs": [],
   "source": [
    "# 訓練 LSTM 模型\n",
    "lstm_model = build_lstm_model()\n",
    "lstm_model.fit(X_train, y_train, epochs=100, batch_size=128)"
   ]
  },
  {
   "cell_type": "code",
   "execution_count": null,
   "id": "62bf9ef4",
   "metadata": {},
   "outputs": [],
   "source": [
    "# 保存 LSTM 模型\n",
    "NowDateTime = datetime.now().strftime(\"%Y-%m-%dT%H_%M_%SZ\")\n",
    "lstm_model.save(f'WeatherLSTM_{NowDateTime}.h5')\n",
    "print('LSTM Model Saved')"
   ]
  },
  {
   "cell_type": "code",
   "execution_count": null,
   "id": "ca14574a",
   "metadata": {},
   "outputs": [],
   "source": [
    "# 訓練 XGBoost 模型\n",
    "XGBModel = XGBRegressor(n_estimators=500, learning_rate=0.05, max_depth=6)\n",
    "XGBModel.fit(LSTM_MinMaxModel.transform(Regression_X_train), Regression_y_train)"
   ]
  },
  {
   "cell_type": "code",
   "execution_count": null,
   "id": "0a0d211b",
   "metadata": {},
   "outputs": [],
   "source": [
    "# 保存 XGBoost 模型\n",
    "joblib.dump(XGBModel, f'WeatherXGBoost_{NowDateTime}.joblib')\n",
    "print('XGBoost Model Saved')"
   ]
  },
  {
   "cell_type": "code",
   "execution_count": null,
   "id": "26c56199",
   "metadata": {},
   "outputs": [],
   "source": [
    "# 打印 XGBoost 模型性能\n",
    "print(\"XGBoost R^2:\", XGBModel.score(LSTM_MinMaxModel.transform(Regression_X_train), Regression_y_train))"
   ]
  },
  {
   "cell_type": "code",
   "execution_count": null,
   "id": "8def5cd0",
   "metadata": {},
   "outputs": [],
   "source": [
    "# 載入模型\n",
    "lstm_model = load_model(f'WeatherLSTM_{NowDateTime}.h5')\n",
    "XGBModel = joblib.load(f'WeatherXGBoost_{NowDateTime}.joblib')\n",
    "\n",
    "# 讀取測試資料的 CSV 檔案，並提取要預測的序號\n",
    "DataName = os.getcwd() + r'upload.csv'\n",
    "SourceData = pd.read_csv(DataName, encoding='utf-8')\n",
    "target = ['序號']\n",
    "EXquestion = SourceData[target].values"
   ]
  },
  {
   "cell_type": "code",
   "execution_count": null,
   "id": "2c3ccd2b",
   "metadata": {},
   "outputs": [],
   "source": [
    "# 初始化變量以儲存參考資料和預測結果\n",
    "inputs = []\n",
    "PredictOutput = []\n",
    "PredictPower = []"
   ]
  },
  {
   "cell_type": "code",
   "execution_count": null,
   "id": "66a30e77",
   "metadata": {},
   "outputs": [],
   "source": [
    "count = 0\n",
    "while count < len(EXquestion):\n",
    "    print('count : ', count)\n",
    "    LocationCode = int(EXquestion[count])  # 提取裝置代號\n",
    "    strLocationCode = str(LocationCode)[-2:]\n",
    "    if LocationCode < 10:\n",
    "        strLocationCode = '0' + strLocationCode\n",
    "\n",
    "    # 讀取該裝置的歷史數據，並提取12個時間步的數據\n",
    "    DataName = os.getcwd() + f'\\LSTM+迴歸分析(比賽用)\\ExampleTrainData(IncompleteAVG)\\IncompleteAvgDATA_{strLocationCode}.csv'\n",
    "    SourceData = pd.read_csv(DataName, encoding='utf-8')\n",
    "    ReferTitle = SourceData[['Serial']].values\n",
    "    ReferData = SourceData[['WindSpeed(m/s)', 'Pressure(hpa)', 'Temperature(°C)', 'Humidity(%)', 'Sunlight(Lux)']].values\n",
    "\n",
    "    inputs = []\n",
    "    for DaysCount in range(len(ReferTitle)):\n",
    "        if str(int(ReferTitle[DaysCount]))[:8] == str(int(EXquestion[count]))[:8]:\n",
    "            TempData = ReferData[DaysCount].reshape(1, -1)\n",
    "            TempData = LSTM_MinMaxModel.transform(TempData)\n",
    "            inputs.append(TempData)\n",
    "\n",
    "    for i in range(ForecastNum):\n",
    "        if i > 0:\n",
    "            inputs.append(PredictOutput[i-1].reshape(1, 5))\n",
    "\n",
    "        X_test = []\n",
    "        X_test.append(inputs[0+i:LookBackNum+i])\n",
    "        NewTest = np.array(X_test)\n",
    "        NewTest = np.reshape(NewTest, (NewTest.shape[0], NewTest.shape[1], 5))\n",
    "\n",
    "        predicted = lstm_model.predict(NewTest)\n",
    "        PredictOutput.append(predicted)\n",
    "        PredictPower.append(np.round(XGBModel.predict(predicted), 2).flatten())\n",
    "\n",
    "    count += 48\n"
   ]
  },
  {
   "cell_type": "code",
   "execution_count": null,
   "id": "c703acbb",
   "metadata": {},
   "outputs": [],
   "source": [
    "# 輸出結果到 CSV\n",
    "df = pd.DataFrame({\n",
    "    '序號': EXquestion.flatten(),\n",
    "    '答案': [round(float(x), 2) for x in PredictPower]\n",
    "})\n",
    "output_file = 'upload.csv'\n",
    "df.to_csv(output_file, index=False)\n",
    "print('Output CSV File Saved')"
   ]
  }
 ],
 "metadata": {
  "language_info": {
   "name": "python"
  }
 },
 "nbformat": 4,
 "nbformat_minor": 5
}
