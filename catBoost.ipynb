{
 "cells": [
  {
   "cell_type": "code",
   "execution_count": null,
   "id": "1b1d5b6e",
   "metadata": {},
   "outputs": [],
   "source": [
    "import os\n",
    "import glob\n",
    "import pandas as pd\n",
    "import numpy as np\n",
    "from tensorflow.keras.models import Sequential, load_model\n",
    "from tensorflow.keras.layers import Dense, LSTM, Dropout\n",
    "from sklearn.preprocessing import MinMaxScaler\n",
    "from catboost import CatBoostRegressor\n",
    "import joblib\n",
    "from datetime import datetime"
   ]
  },
  {
   "cell_type": "code",
   "execution_count": null,
   "id": "5f472fd8",
   "metadata": {},
   "outputs": [],
   "source": [
    "# 設定參數\n",
    "LookBackNum = 12  # LSTM往前看的筆數\n",
    "ForecastNum = 48  # 預測筆數"
   ]
  },
  {
   "cell_type": "code",
   "execution_count": null,
   "id": "f771146b",
   "metadata": {},
   "outputs": [],
   "source": [
    "# 合併所有 17 個檔案的數據\n",
    "def load_all_data():\n",
    "    data_path = os.getcwd() + r'\\'\n",
    "    all_files = glob.glob(data_path + r'\\\\AvgDATA_*.csv')\n",
    "    all_data = pd.concat([pd.read_csv(file, encoding='utf-8') for file in all_files], ignore_index=True)\n",
    "    return all_data"
   ]
  },
  {
   "cell_type": "code",
   "execution_count": null,
   "id": "898e6a75",
   "metadata": {},
   "outputs": [],
   "source": [
    "all_data = load_all_data()"
   ]
  },
  {
   "cell_type": "code",
   "execution_count": null,
   "id": "ad7e8761",
   "metadata": {},
   "outputs": [],
   "source": [
    "# 分別準備 LSTM 和回歸模型需要的數據\n",
    "LSTM_X_data = all_data[['WindSpeed(m/s)', 'Pressure(hpa)', 'Temperature(°C)', 'Humidity(%)', 'Sunlight(Lux)']].values\n",
    "Regression_X_train = all_data[['WindSpeed(m/s)', 'Pressure(hpa)', 'Temperature(°C)', 'Humidity(%)', 'Sunlight(Lux)']].values\n",
    "Regression_y_train = all_data[['Power(mW)']].values"
   ]
  },
  {
   "cell_type": "code",
   "execution_count": null,
   "id": "f381be41",
   "metadata": {},
   "outputs": [],
   "source": [
    "# 正規化數據\n",
    "LSTM_MinMaxModel = MinMaxScaler().fit(LSTM_X_data)\n",
    "LSTM_X_data_scaled = LSTM_MinMaxModel.transform(LSTM_X_data)"
   ]
  },
  {
   "cell_type": "code",
   "execution_count": null,
   "id": "ec1550f5",
   "metadata": {},
   "outputs": [],
   "source": [
    "# 準備 LSTM 的訓練數據\n",
    "X_train, y_train = [], []\n",
    "\n",
    "for i in range(LookBackNum, len(LSTM_X_data_scaled)):\n",
    "    X_train.append(LSTM_X_data_scaled[i - LookBackNum:i, :])\n",
    "    y_train.append(LSTM_X_data_scaled[i, :])\n",
    "\n",
    "X_train = np.array(X_train)\n",
    "y_train = np.array(y_train)"
   ]
  },
  {
   "cell_type": "code",
   "execution_count": null,
   "id": "ddd36330",
   "metadata": {},
   "outputs": [],
   "source": [
    "# 重新設定形狀\n",
    "X_train = np.reshape(X_train, (X_train.shape[0], X_train.shape[1], 5))"
   ]
  },
  {
   "cell_type": "code",
   "execution_count": null,
   "id": "bb92e822",
   "metadata": {},
   "outputs": [],
   "source": [
    "# 建置 LSTM 模型\n",
    "def build_lstm_model():\n",
    "    model = Sequential()\n",
    "    model.add(LSTM(units=256, return_sequences=True, input_shape=(X_train.shape[1], X_train.shape[2])))\n",
    "    model.add(Dropout(0.3))\n",
    "    model.add(LSTM(units=128, return_sequences=True))\n",
    "    model.add(Dropout(0.3))\n",
    "    model.add(LSTM(units=64))\n",
    "    model.add(Dense(units=5))\n",
    "    model.compile(optimizer='adam', loss='mean_absolute_error')  # 改用 MAE\n",
    "    return model"
   ]
  },
  {
   "cell_type": "code",
   "execution_count": null,
   "id": "60201551",
   "metadata": {},
   "outputs": [],
   "source": [
    "# 訓練 LSTM 模型\n",
    "lstm_model = build_lstm_model()\n",
    "lstm_model.fit(X_train, y_train, epochs=100, batch_size=128)"
   ]
  },
  {
   "cell_type": "code",
   "execution_count": null,
   "id": "28483847",
   "metadata": {},
   "outputs": [],
   "source": [
    "# 保存 LSTM 模型\n",
    "NowDateTime = datetime.now().strftime(\"%Y-%m-%dT%H_%M_%SZ\")\n",
    "lstm_model.save(f'WeatherLSTM_{NowDateTime}.h5')\n",
    "print('LSTM Model Saved')"
   ]
  },
  {
   "cell_type": "code",
   "execution_count": null,
   "id": "704faee9",
   "metadata": {},
   "outputs": [],
   "source": [
    "CBModel = CatBoostRegressor(\n",
    "    iterations=500,\n",
    "    learning_rate=0.05,\n",
    "    depth=6,\n",
    "    verbose=0          # 不輸出訓練過程\n",
    ")"
   ]
  },
  {
   "cell_type": "code",
   "execution_count": null,
   "id": "67f075d9",
   "metadata": {},
   "outputs": [],
   "source": [
    "X_reg_scaled = LSTM_MinMaxModel.transform(Regression_X_train)\n",
    "CBModel.fit(X_reg_scaled, Regression_y_train)"
   ]
  },
  {
   "cell_type": "code",
   "execution_count": null,
   "id": "01033f30",
   "metadata": {},
   "outputs": [],
   "source": [
    "CBModel.save_model(f'WeatherCatBoost_{NowDateTime}.cbm')\n",
    "print('CatBoost Model Saved')"
   ]
  },
  {
   "cell_type": "code",
   "execution_count": null,
   "id": "d5b62b22",
   "metadata": {},
   "outputs": [],
   "source": [
    "r2 = CBModel.score(X_reg_scaled, Regression_y_train)\n",
    "print(f\"CatBoost R^2: {r2:.4f}\")"
   ]
  },
  {
   "cell_type": "code",
   "execution_count": null,
   "id": "4940a563",
   "metadata": {},
   "outputs": [],
   "source": [
    "lstm_model = load_model(f'WeatherLSTM_{NowDateTime}.h5')\n",
    "CBModel = CatBoostRegressor()\n",
    "CBModel.load_model(f'WeatherCatBoost_{NowDateTime}.cbm')"
   ]
  },
  {
   "cell_type": "code",
   "execution_count": null,
   "id": "29417200",
   "metadata": {},
   "outputs": [],
   "source": [
    "test_path = os.getcwd() + r'upload.csv'\n",
    "test_df = pd.read_csv(test_path, encoding='utf-8')\n",
    "EXquestion = test_df[['序號']].values  # 待預測的裝置序號\n",
    "base = os.getcwd()"
   ]
  },
  {
   "cell_type": "code",
   "execution_count": null,
   "id": "73899dc5",
   "metadata": {},
   "outputs": [],
   "source": [
    "results = []\n",
    "for idx in range(0, len(EXquestion), ForecastNum):\n",
    "    loc_code = int(EXquestion[idx])\n",
    "    suffix = str(loc_code).zfill(2)[-2:]\n",
    "    \n",
    "    # **修正點**：自動尋找對應的不完整 AVG 檔案\n",
    "    incomplete_dir = os.path.join(base, '')\n",
    "    pattern = os.path.join(incomplete_dir, f'IncompleteAvgDATA_{suffix}.csv')\n",
    "    matches = glob.glob(pattern)\n",
    "    if not matches:\n",
    "        raise FileNotFoundError(f\"No file matches pattern: {pattern}\")\n",
    "    hist_df = pd.read_csv(matches[0], encoding='utf-8')\n",
    "    \n",
    "    hist_values = hist_df[['WindSpeed(m/s)', 'Pressure(hpa)', 'Temperature(°C)', 'Humidity(%)', 'Sunlight(Lux)']].values\n",
    "    hist_scaled = LSTM_MinMaxModel.transform(hist_values)\n",
    "    inputs = [hist_scaled[i].reshape(1, -1) for i in range(LookBackNum)]\n",
    "    \n",
    "    PredictOutput, PredictPower = [], []\n",
    "    for t in range(ForecastNum):\n",
    "        if t > 0:\n",
    "            inputs.append(PredictOutput[-1])\n",
    "        X_seq = np.array([inputs[t:t+LookBackNum]]).reshape((1, LookBackNum, len(['WindSpeed(m/s)', 'Pressure(hpa)', 'Temperature(°C)', 'Humidity(%)', 'Sunlight(Lux)'])))\n",
    "        lstm_pred = lstm_model.predict(X_seq)\n",
    "        PredictOutput.append(lstm_pred)\n",
    "        \n",
    "        cb_input = lstm_pred.reshape(-1, len(['WindSpeed(m/s)', 'Pressure(hpa)', 'Temperature(°C)', 'Humidity(%)', 'Sunlight(Lux)']))\n",
    "        power_pred = CBModel.predict(cb_input)\n",
    "        PredictPower.append(np.round(power_pred, 2).flatten())\n",
    "    \n",
    "    for p in PredictPower:\n",
    "        results.append(p[0])"
   ]
  },
  {
   "cell_type": "code",
   "execution_count": null,
   "id": "dea85181",
   "metadata": {},
   "outputs": [],
   "source": [
    "out_df = pd.DataFrame({\n",
    "    '序號': EXquestion.flatten(),\n",
    "    '答案': [float(x) for x in results]\n",
    "})\n",
    "out_df.to_csv('upload_catboost.csv', index=False)\n",
    "print('Output CSV File Saved')"
   ]
  }
 ],
 "metadata": {
  "kernelspec": {
   "display_name": "project",
   "language": "python",
   "name": "python3"
  },
  "language_info": {
   "codemirror_mode": {
    "name": "ipython",
    "version": 3
   },
   "file_extension": ".py",
   "mimetype": "text/x-python",
   "name": "python",
   "nbconvert_exporter": "python",
   "pygments_lexer": "ipython3",
   "version": "3.9.21"
  }
 },
 "nbformat": 4,
 "nbformat_minor": 5
}
